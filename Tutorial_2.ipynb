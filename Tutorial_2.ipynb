{
 "cells": [
  {
   "cell_type": "markdown",
   "metadata": {},
   "source": [
    "# Learn Python for Data Science with Siraj Raval (YouTube)\n",
    "\n",
    "## AIM :\n",
    "    1. To use Tweepy library to connect to twitter API and access tweets\n",
    "    2. To use Textblob library to analyse the sentiment of the tweet\n",
    "    3. To label the tweet as 'positive' or 'negative' on the basis of sentiment\n",
    "    4. To export the tweets along with labels to a csv file"
   ]
  },
  {
   "cell_type": "code",
   "execution_count": 1,
   "metadata": {},
   "outputs": [
    {
     "name": "stdout",
     "output_type": "stream",
     "text": [
      "RT @nspector4: Obama's approach was to manage US decline, while Trump rages against that decline.\n",
      "Sentiment(polarity=0.0, subjectivity=0.0)\n",
      "RT @renato_mariotti: Trump’s team not only argues that he can pardon himself but also argues that he has unlimited power to investigate his…\n",
      "Sentiment(polarity=0.0, subjectivity=1.0)\n",
      "@TheRickWilson See Rick.... Comey MADE Trump collude. https://t.co/W6GOIKAYuT\n",
      "Sentiment(polarity=0.0, subjectivity=0.0)\n",
      "RT @neeratanden: My favorite thing in the world is when people who actually paved the way for Trump, like Maureen Dowd, blame people who fo…\n",
      "Sentiment(polarity=0.25, subjectivity=0.55)\n",
      "RT @FoxNews: .@CLewandowski_ says Trump legal team 'will take it to court' if Mueller subpoenas president https://t.co/xc7lPkMwUv\n",
      "Sentiment(polarity=0.2, subjectivity=0.2)\n",
      "RT @FoxNews: .@CLewandowski_ says Trump legal team 'will take it to court' if Mueller subpoenas president https://t.co/xc7lPkMwUv\n",
      "Sentiment(polarity=0.2, subjectivity=0.2)\n",
      "RT @TexaLonestar: I have never seen so much disrespect in my life, but I blame the media! Due to their hateful Rhetoric its become okay to…\n",
      "Sentiment(polarity=0.20833333333333334, subjectivity=0.35833333333333334)\n",
      "I just retweeted what I sent to trump.  This time without his address so it stuck. He’s a sensitive little boy.\n",
      "Sentiment(polarity=-0.04375, subjectivity=0.7)\n",
      "RT @CarmineZozzora: Every success Trump has at home or abroad is a dagger to the hearts of the seditious Left who‘ve dialed up their standa…\n",
      "Sentiment(polarity=0.15, subjectivity=0.0)\n",
      "RT @politico: Surreal Trump-Kim summit defies diplomatic playbook https://t.co/gdu1faENZi\n",
      "Sentiment(polarity=0.25, subjectivity=1.0)\n",
      "RT @BillKristol: So Jay Sekulow, Trump's lawyer, lied in July 2017. He in effect retracted the lie privately in a January 2018 letter to th…\n",
      "Sentiment(polarity=0.0, subjectivity=0.375)\n",
      "RT @JesseCharlesLee: It is drastically understated &amp; under-understood: Republicans in Congress could have stood up and put a leash on Trump…\n",
      "Sentiment(polarity=0.0, subjectivity=0.0)\n",
      "RT @jacob4kids: #SundayMorning\n",
      "Trump ignores #PrideMonth again.\n",
      "So he is ignoring heroes like Mark Bingham. He was one of the brave America…\n",
      "Sentiment(polarity=0.8, subjectivity=1.0)\n",
      "Senator Urges Colleagues to Work Through Weekends and Recess To Confirm Trump Nominees https://t.co/qKPJKtLDxe\n",
      "Sentiment(polarity=0.0, subjectivity=0.0)\n",
      "@Alyssa_Milano What about the spy that Obama and Hillary had inside the Trump campaign? I would be willing to bet t… https://t.co/6CckYmxxWe\n",
      "Sentiment(polarity=0.25, subjectivity=0.75)\n"
     ]
    }
   ],
   "source": [
    "import tweepy\n",
    "from textblob import TextBlob\n",
    "\n",
    "# Step 1 - Authenticate\n",
    "consumer_key = 'MLreL77wrzO1LRBWBf4j8UO9p'\n",
    "consumer_secret = '1fImiV5M8aKTiMLJ5Pdeiol3xZ6SyuHGPmpbT1S0BAZ2SsKQp3'\n",
    "\n",
    "access_token = '4853090543-t9ESrCu1vbtQaBZ21oNz29B6gJz0nVI5oU9Nmqs'\n",
    "access_token_secret = '*******************************************'\n",
    "\n",
    "auth = tweepy.OAuthHandler(consumer_key, consumer_secret)\n",
    "auth.set_access_token(access_token, access_token_secret)\n",
    "\n",
    "#Step 2 - Retrieve Tweets\n",
    "api = tweepy.API(auth)\n",
    "\n",
    "public_tweets = api.search('Trump')\n",
    "\n",
    "for tweets in public_tweets:\n",
    "    print(tweets.text)\n",
    "    analysis = TextBlob(tweets.text)\n",
    "    print(analysis.sentiment)"
   ]
  },
  {
   "cell_type": "markdown",
   "metadata": {},
   "source": [
    "### Now we construct a dataframe using pandas library and label the tweets according to their sentiment polarity"
   ]
  },
  {
   "cell_type": "code",
   "execution_count": 2,
   "metadata": {
    "collapsed": true
   },
   "outputs": [],
   "source": [
    "import pandas as pd\n",
    "\n",
    "data=[]\n",
    "\n",
    "for tweets in public_tweets:\n",
    "    analysis = TextBlob(tweets.text)\n",
    "    if analysis.sentiment.polarity>=0:\n",
    "        label='positive'\n",
    "    else:\n",
    "        label='negative'\n",
    "    data.append({'Tweet':tweets.text, 'Label':label})\n",
    "\n",
    "data=pd.DataFrame(data)"
   ]
  },
  {
   "cell_type": "code",
   "execution_count": 3,
   "metadata": {
    "scrolled": true
   },
   "outputs": [
    {
     "name": "stdout",
     "output_type": "stream",
     "text": [
      "       Label                                              Tweet\n",
      "0   positive  RT @nspector4: Obama's approach was to manage ...\n",
      "1   positive  RT @renato_mariotti: Trump’s team not only arg...\n",
      "2   positive  @TheRickWilson See Rick.... Comey MADE Trump c...\n",
      "3   positive  RT @neeratanden: My favorite thing in the worl...\n",
      "4   positive  RT @FoxNews: .@CLewandowski_ says Trump legal ...\n",
      "5   positive  RT @FoxNews: .@CLewandowski_ says Trump legal ...\n",
      "6   positive  RT @TexaLonestar: I have never seen so much di...\n",
      "7   negative  I just retweeted what I sent to trump.  This t...\n",
      "8   positive  RT @CarmineZozzora: Every success Trump has at...\n",
      "9   positive  RT @politico: Surreal Trump-Kim summit defies ...\n",
      "10  positive  RT @BillKristol: So Jay Sekulow, Trump's lawye...\n",
      "11  positive  RT @JesseCharlesLee: It is drastically underst...\n",
      "12  positive  RT @jacob4kids: #SundayMorning\\nTrump ignores ...\n",
      "13  positive  Senator Urges Colleagues to Work Through Weeke...\n",
      "14  positive  @Alyssa_Milano What about the spy that Obama a...\n"
     ]
    }
   ],
   "source": [
    "print(data)"
   ]
  },
  {
   "cell_type": "markdown",
   "metadata": {},
   "source": [
    "### Now we export our dataframe 'data' to a csv file 'Tutorial_2.csv'\n",
    "#### Note :- We encode the csv file as 'utf-8' and the separation 'sep' is set to ',' by default"
   ]
  },
  {
   "cell_type": "code",
   "execution_count": 4,
   "metadata": {
    "collapsed": true
   },
   "outputs": [],
   "source": [
    "data.to_csv('Tutorial_2.csv', encoding='utf-8', index=False)"
   ]
  },
  {
   "cell_type": "markdown",
   "metadata": {},
   "source": [
    "## RESULT :\n",
    "    The tweets along with labels were successfully exported to Tutorial_2.csv .\n"
   ]
  }
 ],
 "metadata": {
  "kernelspec": {
   "display_name": "Python 2",
   "language": "python",
   "name": "python2"
  },
  "language_info": {
   "codemirror_mode": {
    "name": "ipython",
    "version": 2
   },
   "file_extension": ".py",
   "mimetype": "text/x-python",
   "name": "python",
   "nbconvert_exporter": "python",
   "pygments_lexer": "ipython2",
   "version": "2.7.14"
  }
 },
 "nbformat": 4,
 "nbformat_minor": 2
}
